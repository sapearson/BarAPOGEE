{
 "cells": [
  {
   "cell_type": "code",
   "execution_count": 1,
   "metadata": {},
   "outputs": [],
   "source": [
    "from __future__ import division, print_function\n",
    "\n",
    "# Third-party\n",
    "import astropy.coordinates as coord\n",
    "import astropy.units as u\n",
    "import matplotlib\n",
    "from matplotlib import animation\n",
    "import matplotlib.pyplot as plt\n",
    "import numpy as np\n",
    "#plt.style.use('apw-notebook')\n",
    "%matplotlib inline\n",
    "from astropy.table import Table\n",
    "\n",
    "# Third-party\n",
    "import astropy.coordinates as coord\n",
    "from astropy.coordinates import SkyCoord\n",
    "import astropy.units as u\n",
    "import matplotlib.pyplot as plt\n",
    "import numpy as np\n",
    "%matplotlib inline\n",
    "\n",
    "# Custom\n",
    "import gala.coordinates as gc\n",
    "import gala.dynamics as gd\n",
    "from gala.dynamics.mockstream import fardal_stream, streakline_stream\n",
    "import gala.integrate as gi\n",
    "import gala.potential as gp\n",
    "from gala.units import galactic\n",
    "from gala.util import rolling_window\n",
    "from scipy.signal import argrelmin,argrelmax\n",
    "from scipy.stats import scoreatpercentile\n",
    "from scipy.integrate import quad\n",
    "from matplotlib import cm\n",
    "from tqdm import tqdm\n",
    "\n",
    "\n",
    "import matplotlib as mpl\n",
    "\n",
    "\n",
    "#from potential import get_bar_model\n",
    "#from potential import default_mw"
   ]
  },
  {
   "cell_type": "markdown",
   "metadata": {},
   "source": [
    "## Read in Chervin's & D'Onghia's sims"
   ]
  },
  {
   "cell_type": "markdown",
   "metadata": {},
   "source": [
    "## Transform from cartesian to cylindrical"
   ]
  },
  {
   "cell_type": "markdown",
   "metadata": {},
   "source": [
    "## Remake vr_vphi plot"
   ]
  },
  {
   "cell_type": "markdown",
   "metadata": {},
   "source": [
    "## Include errors"
   ]
  },
  {
   "cell_type": "markdown",
   "metadata": {},
   "source": [
    "## Apply APOGEE selection function"
   ]
  },
  {
   "cell_type": "code",
   "execution_count": null,
   "metadata": {},
   "outputs": [],
   "source": []
  }
 ],
 "metadata": {
  "kernelspec": {
   "display_name": "Python 3",
   "language": "python",
   "name": "python3"
  },
  "language_info": {
   "codemirror_mode": {
    "name": "ipython",
    "version": 3
   },
   "file_extension": ".py",
   "mimetype": "text/x-python",
   "name": "python",
   "nbconvert_exporter": "python",
   "pygments_lexer": "ipython3",
   "version": "3.6.5"
  }
 },
 "nbformat": 4,
 "nbformat_minor": 2
}
